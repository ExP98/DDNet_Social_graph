{
 "cells": [
  {
   "cell_type": "code",
   "execution_count": 2,
   "metadata": {
    "collapsed": true
   },
   "outputs": [
    {
     "name": "stdout",
     "output_type": "stream",
     "text": [
      "2025\n"
     ]
    }
   ],
   "source": [
    "import csv\n",
    "from collections import defaultdict\n",
    "\n",
    "map_points = {}\n",
    "with open('data/maps.csv', 'r', encoding='latin-1') as fp:\n",
    "    reader = csv.reader(fp, delimiter=',')\n",
    "    next(reader)\n",
    "    for row in reader:\n",
    "        map_points[row[0]] = int(row[2])\n",
    "print(len(map_points))"
   ]
  },
  {
   "cell_type": "code",
   "execution_count": 3,
   "outputs": [
    {
     "name": "stdout",
     "output_type": "stream",
     "text": [
      "459661\n"
     ]
    }
   ],
   "source": [
    "players = defaultdict(set)\n",
    "with open('data/race.csv', 'r', encoding='latin-1') as fp:\n",
    "    reader = csv.reader(fp, delimiter=',')\n",
    "    next(reader)\n",
    "    for row in reader:\n",
    "        if len(row) == 5:\n",
    "            players[row[1]].add(row[0])\n",
    "        elif len(row) == 4:\n",
    "            players[row[1].split('\",')[0]].add(row[0])\n",
    "        elif len(row) == 6:\n",
    "            players[row[1] + row[2]].add(row[0])\n",
    "        elif len(row) == 3:\n",
    "            players[row[1].split('\",')[0]].add(row[0])\n",
    "print(len(players))"
   ],
   "metadata": {
    "collapsed": false,
    "pycharm": {
     "name": "#%%\n"
    }
   }
  },
  {
   "cell_type": "code",
   "execution_count": 4,
   "outputs": [
    {
     "name": "stdout",
     "output_type": "stream",
     "text": [
      "11317\n",
      "12048\n",
      "27795\n",
      "15864\n"
     ]
    }
   ],
   "source": [
    "for player in players.keys():\n",
    "    pts = 0\n",
    "    for map_name in players[player]:\n",
    "        pts += map_points[map_name]\n",
    "    players[player] = pts\n",
    "\n",
    "print(players['PeX'])\n",
    "print(players['ad'])\n",
    "print(players['Cor'])\n",
    "print(players['nameless tee'])"
   ],
   "metadata": {
    "collapsed": false,
    "pycharm": {
     "name": "#%%\n"
    }
   }
  },
  {
   "cell_type": "code",
   "execution_count": 7,
   "outputs": [
    {
     "name": "stdout",
     "output_type": "stream",
     "text": [
      "1 Cor 27795\n",
      "2 Starkiller 27768\n",
      "3 Colo-Colo 27356\n",
      "4 Aoe 27352\n",
      "5 Freezestyler 27200\n",
      "6 HaHAxD* 26913\n",
      "7 Grk0ne 26770\n",
      "8 TyÑkaNÑuk 26368\n",
      "9 ano :3 25935\n",
      "10 .:Danytto:. 24684\n"
     ]
    }
   ],
   "source": [
    "sorted_players = sorted(players.items(), key=lambda kv: kv[1], reverse=True)\n",
    "for i, (pl, pts) in enumerate(sorted_players):\n",
    "    if i == 10:\n",
    "        break\n",
    "    print(i+1, pl, pts)\n"
   ],
   "metadata": {
    "collapsed": false,
    "pycharm": {
     "name": "#%%\n"
    }
   }
  },
  {
   "cell_type": "code",
   "execution_count": 25,
   "outputs": [],
   "source": [
    "with open('output/nicks-points.csv', 'w', encoding='latin-1') as f:\n",
    "    f.write(\"Rank,Nickname,Points\\n\")\n",
    "    for rank, (nick_name, points) in enumerate(sorted_players):\n",
    "        f.write('%d\\t%s\\t%d\\n' % (rank+1, nick_name, points))"
   ],
   "metadata": {
    "collapsed": false,
    "pycharm": {
     "name": "#%%\n"
    }
   }
  },
  {
   "cell_type": "code",
   "execution_count": 15,
   "outputs": [
    {
     "name": "stdout",
     "output_type": "stream",
     "text": [
      "6510 ('ysm', 999)\n"
     ]
    }
   ],
   "source": [
    "# 3423 ppl with >2000 pts\n",
    "# 6510 ppl with >1000 pts\n",
    "for i, (pl, pts) in enumerate(sorted_players):\n",
    "    if pts < 1000:\n",
    "        print(i, (pl, pts))\n",
    "        break"
   ],
   "metadata": {
    "collapsed": false,
    "pycharm": {
     "name": "#%%\n"
    }
   }
  },
  {
   "cell_type": "code",
   "execution_count": 26,
   "outputs": [],
   "source": [
    "with open('output/nicks-points_1000pts.csv', 'w', encoding='latin-1') as f:\n",
    "    f.write(\"Rank,Nickname,Points\\n\")\n",
    "    for rank, (nick_name, points) in enumerate(sorted_players):\n",
    "        if points >= 1000:\n",
    "            f.write('%d\\t%s\\t%d\\n' % (rank+1, nick_name, points))\n",
    "        else:\n",
    "            break"
   ],
   "metadata": {
    "collapsed": false,
    "pycharm": {
     "name": "#%%\n"
    }
   }
  },
  {
   "cell_type": "code",
   "execution_count": 27,
   "outputs": [],
   "source": [
    "with open('output/nicks-points_10000.csv', 'w', encoding='latin-1') as f:\n",
    "    f.write(\"Rank,Nickname,Points\\n\")\n",
    "    for rank, (nick_name, points) in enumerate(sorted_players):\n",
    "        if rank == 10000:\n",
    "            break\n",
    "        f.write('%d\\t%s\\t%d\\n' % (rank+1, nick_name, points))\n"
   ],
   "metadata": {
    "collapsed": false,
    "pycharm": {
     "name": "#%%\n"
    }
   }
  },
  {
   "cell_type": "code",
   "execution_count": 1,
   "outputs": [
    {
     "ename": "NameError",
     "evalue": "name 'reader' is not defined",
     "output_type": "error",
     "traceback": [
      "\u001B[1;31m---------------------------------------------------------------------------\u001B[0m",
      "\u001B[1;31mNameError\u001B[0m                                 Traceback (most recent call last)",
      "\u001B[1;32m~\\AppData\\Local\\Temp/ipykernel_14100/1263936629.py\u001B[0m in \u001B[0;36m<module>\u001B[1;34m\u001B[0m\n\u001B[1;32m----> 1\u001B[1;33m \u001B[0mprint\u001B[0m\u001B[1;33m(\u001B[0m\u001B[0mtype\u001B[0m\u001B[1;33m(\u001B[0m\u001B[0mreader\u001B[0m\u001B[1;33m)\u001B[0m\u001B[1;33m)\u001B[0m\u001B[1;33m\u001B[0m\u001B[1;33m\u001B[0m\u001B[0m\n\u001B[0m\u001B[0;32m      2\u001B[0m \u001B[1;33m\u001B[0m\u001B[0m\n\u001B[0;32m      3\u001B[0m \u001B[1;33m\u001B[0m\u001B[0m\n\u001B[0;32m      4\u001B[0m \u001B[1;33m\u001B[0m\u001B[0m\n",
      "\u001B[1;31mNameError\u001B[0m: name 'reader' is not defined"
     ]
    }
   ],
   "source": [
    "print(type(reader))\n",
    "\n"
   ],
   "metadata": {
    "collapsed": false,
    "pycharm": {
     "name": "#%%\n"
    }
   }
  }
 ],
 "metadata": {
  "kernelspec": {
   "display_name": "Python 3",
   "language": "python",
   "name": "python3"
  },
  "language_info": {
   "codemirror_mode": {
    "name": "ipython",
    "version": 2
   },
   "file_extension": ".py",
   "mimetype": "text/x-python",
   "name": "python",
   "nbconvert_exporter": "python",
   "pygments_lexer": "ipython2",
   "version": "2.7.6"
  }
 },
 "nbformat": 4,
 "nbformat_minor": 0
}