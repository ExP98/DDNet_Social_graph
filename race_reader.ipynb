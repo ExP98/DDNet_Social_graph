{
 "cells": [
  {
   "cell_type": "code",
   "execution_count": 1,
   "metadata": {
    "collapsed": true
   },
   "outputs": [
    {
     "name": "stdout",
     "output_type": "stream",
     "text": [
      "2025\n"
     ]
    }
   ],
   "source": [
    "import csv\n",
    "from collections import defaultdict\n",
    "\n",
    "map_points = {}\n",
    "with open('data/maps.csv', 'r', encoding='latin-1') as fp:\n",
    "    reader = csv.reader(fp, delimiter=',')\n",
    "    next(reader)\n",
    "    for row in reader:\n",
    "        map_points[row[0]] = int(row[2])\n",
    "print(len(map_points))"
   ]
  },
  {
   "cell_type": "code",
   "execution_count": 8,
   "outputs": [
    {
     "name": "stdout",
     "output_type": "stream",
     "text": [
      "459661\n"
     ]
    }
   ],
   "source": [
    "players = defaultdict(set)\n",
    "with open('data/race.csv', 'r', encoding='latin-1') as fp:\n",
    "    reader = csv.reader(fp, delimiter=',')\n",
    "    next(reader)\n",
    "    for row in reader:\n",
    "        if len(row) == 5:\n",
    "            players[row[1]].add(row[0])\n",
    "        elif len(row) == 4:\n",
    "            players[row[1].split('\",')[0]].add(row[0])\n",
    "        elif len(row) == 6:\n",
    "            players[row[1] + row[2]].add(row[0])\n",
    "        elif len(row) == 3:\n",
    "            players[row[1].split('\",')[0]].add(row[0])\n",
    "print(len(players))"
   ],
   "metadata": {
    "collapsed": false,
    "pycharm": {
     "name": "#%%\n"
    }
   }
  },
  {
   "cell_type": "code",
   "execution_count": 9,
   "outputs": [
    {
     "name": "stdout",
     "output_type": "stream",
     "text": [
      "11317\n",
      "12048\n",
      "27795\n",
      "15864\n"
     ]
    }
   ],
   "source": [
    "for player in players.keys():\n",
    "    pts = 0\n",
    "    for map_name in players[player]:\n",
    "        pts += map_points[map_name]\n",
    "    players[player] = pts\n",
    "\n",
    "print(players['PeX'])\n",
    "print(players['ad'])\n",
    "print(players['Cor'])\n",
    "print(players['nameless tee'])"
   ],
   "metadata": {
    "collapsed": false,
    "pycharm": {
     "name": "#%%\n"
    }
   }
  }
 ],
 "metadata": {
  "kernelspec": {
   "display_name": "Python 3",
   "language": "python",
   "name": "python3"
  },
  "language_info": {
   "codemirror_mode": {
    "name": "ipython",
    "version": 2
   },
   "file_extension": ".py",
   "mimetype": "text/x-python",
   "name": "python",
   "nbconvert_exporter": "python",
   "pygments_lexer": "ipython2",
   "version": "2.7.6"
  }
 },
 "nbformat": 4,
 "nbformat_minor": 0
}