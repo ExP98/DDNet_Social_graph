{
 "cells": [
  {
   "cell_type": "markdown",
   "source": [
    "Чтение файла *teamrace.csv*"
   ],
   "metadata": {
    "collapsed": false
   }
  },
  {
   "cell_type": "code",
   "execution_count": 6,
   "metadata": {
    "collapsed": true
   },
   "outputs": [],
   "source": [
    "import csv\n",
    "from collections import defaultdict\n",
    "\n",
    "\n",
    "def extraction(spl_line):\n",
    "    if len(spl_line) != 3:\n",
    "        print('wrong line!')\n",
    "        return None\n",
    "    else:\n",
    "        map_name, date = spl_line[0][1:], spl_line[2][:-1]\n",
    "        splt_l = spl_line[1].split('\",')\n",
    "        if len(splt_l) == 2:\n",
    "            nick, sp_l = splt_l\n",
    "            time, team_id = sp_l.split(',\"')\n",
    "        else:\n",
    "            nick, time, team_id = splt_l\n",
    "        if ',' in time:\n",
    "            time, id_reminder = time.split(',')\n",
    "            if id_reminder:\n",
    "                team_id = id_reminder + team_id\n",
    "        return map_name, nick, time, team_id, date"
   ]
  },
  {
   "cell_type": "code",
   "execution_count": 2,
   "outputs": [],
   "source": [
    "record_list = []\n",
    "\n",
    "prev_line = []\n",
    "with open('data/teamrace.csv', 'r', encoding='latin-1') as f:\n",
    "    next(f)\n",
    "    for line in f:\n",
    "        splitted_line = line.split('\",\"')\n",
    "        if len(splitted_line) == 3:\n",
    "            record_list.append(extraction(splitted_line))\n",
    "            prev_line = splitted_line\n",
    "        else:\n",
    "            if len(splitted_line) == 2 and len(prev_line) == 2:\n",
    "                new_line = [prev_line[0], prev_line[1] + splitted_line[0], splitted_line[1]]\n",
    "                record_list.append(extraction(new_line))\n",
    "                prev_line = new_line\n",
    "            else:\n",
    "                if len(splitted_line) == 1 and len(prev_line) == 2:\n",
    "                    prev_line = [prev_line[0], prev_line[1] + splitted_line[0]]\n",
    "                else:\n",
    "                    prev_line = splitted_line"
   ],
   "metadata": {
    "collapsed": false,
    "pycharm": {
     "name": "#%%\n"
    }
   }
  },
  {
   "cell_type": "code",
   "execution_count": 3,
   "outputs": [
    {
     "data": {
      "text/plain": "1274201"
     },
     "execution_count": 3,
     "metadata": {},
     "output_type": "execute_result"
    }
   ],
   "source": [
    "len(record_list)"
   ],
   "metadata": {
    "collapsed": false,
    "pycharm": {
     "name": "#%%\n"
    }
   }
  },
  {
   "cell_type": "code",
   "execution_count": 8,
   "outputs": [
    {
     "name": "stdout",
     "output_type": "stream",
     "text": [
      "Rest to Die 2\n",
      "Blmap4 2\n",
      "Copy Love Box 4\n",
      "New Generation II 4\n",
      "Not Adrenaline  6\n",
      "Redefined 2 10\n",
      "Nether 12\n",
      "Hedgehogs 12\n",
      "1AndOnLyLife 13\n",
      "Grim Reaper 14\n",
      "Ton 2 14\n",
      "Heartcore II 16\n",
      "Just Rocketfly  18\n",
      "Impel Down 18\n",
      "complic 19\n",
      "Not Adrenaline 6 20\n",
      "Shawker 20\n",
      "asterism 20\n",
      "pedeuliar 20\n",
      "Ton 22\n",
      "MultiFAT 22\n",
      "Wonderfully2 22\n",
      "Aimateur 23\n",
      "Wonderfully 24\n",
      "Best of Three 24\n"
     ]
    }
   ],
   "source": [
    "maps = defaultdict(int)\n",
    "for x in record_list:\n",
    "    maps[x[0]] += 1\n",
    "sorted_maps = sorted(maps.items(), key=lambda kv: kv[1])\n",
    "for i, (k, m) in enumerate(sorted_maps):\n",
    "    if i == 25:\n",
    "        break\n",
    "    print(k, m)"
   ],
   "metadata": {
    "collapsed": false,
    "pycharm": {
     "name": "#%%\n"
    }
   }
  },
  {
   "cell_type": "code",
   "execution_count": 13,
   "outputs": [
    {
     "name": "stdout",
     "output_type": "stream",
     "text": [
      "587865\n"
     ]
    }
   ],
   "source": [
    "teamid_dict = defaultdict(set)\n",
    "for row in record_list:\n",
    "    teamid_dict[row[3]].add(row[1])\n",
    "print(len(teamid_dict))"
   ],
   "metadata": {
    "collapsed": false,
    "pycharm": {
     "name": "#%%\n"
    }
   }
  },
  {
   "cell_type": "code",
   "execution_count": 15,
   "outputs": [
    {
     "name": "stdout",
     "output_type": "stream",
     "text": [
      "111646\n"
     ]
    }
   ],
   "source": [
    "team_mates = defaultdict(set)\n",
    "for tid in teamid_dict.keys():\n",
    "    for player in teamid_dict[tid]:\n",
    "        for mate in teamid_dict[tid]:\n",
    "            team_mates[player].add(mate)\n",
    "for k in team_mates.keys():\n",
    "    team_mates[k].remove(k)\n",
    "\n",
    "print(len(team_mates))"
   ],
   "metadata": {
    "collapsed": false,
    "pycharm": {
     "name": "#%%\n"
    }
   }
  },
  {
   "cell_type": "code",
   "execution_count": 17,
   "outputs": [
    {
     "data": {
      "text/plain": "364"
     },
     "execution_count": 17,
     "metadata": {},
     "output_type": "execute_result"
    }
   ],
   "source": [
    "len(team_mates['PeX'])"
   ],
   "metadata": {
    "collapsed": false,
    "pycharm": {
     "name": "#%%\n"
    }
   }
  },
  {
   "cell_type": "code",
   "execution_count": 20,
   "outputs": [
    {
     "name": "stdout",
     "output_type": "stream",
     "text": [
      "1 brainless tee 1941\n",
      "2 nameless tee 916\n",
      "3 (1) 681\n",
      "4 Colo-Colo 664\n",
      "5 fikmesÃ¥n 571\n",
      "6 Noctua 571\n",
      "7 bano 536\n",
      "8 Kicker 498\n",
      "9 Cendren 491\n",
      "10 NovaShock 491\n",
      "11 <BÂµmM> 439\n",
      "12 :) 420\n",
      "13 iParano 403\n",
      "14 Aoe 383\n",
      "15 .:Danytto:. 377\n",
      "16 Deathman 364\n",
      "17 PeX 364\n",
      "18 Esckiller 361\n",
      "19 [D]NovaShock 360\n",
      "20 (1)brainless te 351\n",
      "21 Cireme 350\n",
      "22 Freezestyler 350\n",
      "23 AvapiX 346\n",
      "24 TeeWurst Neon 340\n",
      "25 Ð¡ÑÐ°ÑÑÑÐµ 332\n",
      "26 Hindu 326\n",
      "27 HaHAxD* 326\n",
      "28 KlexMikrowelle 325\n",
      "29 Bolox 321\n",
      "30 ZimE 320\n",
      "31 CÃ¸ke 318\n",
      "32 ad 318\n",
      "33 Theon 310\n",
      "34 â¥|Duca 309\n",
      "35 Tezcan 302\n",
      "36 |JB*|Golden Axe 301\n",
      "37 GlobQ 300\n",
      "38 Juicy 300\n",
      "39 superob96 299\n",
      "40 triki 297\n",
      "41 Nooback 297\n",
      "42 shoxX 295\n",
      "43 Slayer 295\n",
      "44 ReD 295\n",
      "45 ano :3 294\n",
      "46 Welf 291\n",
      "47 qed 291\n",
      "48 Iaan~| 290\n",
      "49 NANAMAR 290\n",
      "50 Meow~ 288\n",
      "51 Chairn 278\n",
      "52 nothing 276\n",
      "53 . 274\n",
      "54 Cor 274\n",
      "55 'faceless 273\n",
      "56 Starkiller 272\n",
      "57 Zhady 270\n",
      "58 simple 269\n",
      "59 Yota. 267\n",
      "60 Avasus 265\n",
      "61 jao 265\n",
      "62 --------- 263\n",
      "63 StorÐ¼PÊÃ¶É´ix 263\n",
      "64 NeXus 262\n",
      "65 Keun 262\n",
      "66 sorgaxD 260\n",
      "67 Elit3N0ob 257\n",
      "68 Kill4FuN 254\n",
      "69 gB. | Kayumi 252\n",
      "70 R41NB0W 251\n",
      "71 Black Jack 251\n",
      "72 ScReeNy 251\n",
      "73 rezee 251\n",
      "74 BaconDrink 251\n",
      "75 Soapy Sandwich 250\n",
      "76 froid.' 248\n",
      "77 krÃ¼melmonster 246\n",
      "78 Element Finland 245\n",
      "79 Konsti 245\n",
      "80 Fabi` 245\n",
      "81 Large 245\n",
      "82 lufu1 244\n",
      "83 coradax 244\n",
      "84 |ÅaÃ¾Å§urÄ| 243\n",
      "85 â¡-ÓRÙ¡ââ 242\n",
      "86 seLFiii <33 241\n",
      "87 painn 241\n",
      "88 YaaOmo 240\n",
      "89 Smetanolub 240\n",
      "90 Poltix 240\n",
      "91 Knacker 238\n",
      "92 Alasia <3 237\n",
      "93 LCSG47 235\n",
      "94 Cherry 233\n",
      "95 Negativ 232\n",
      "96 Grk0ne 232\n",
      "97 DaGiese :> 231\n",
      "98 Deeper 229\n",
      "99 Shawn. 228\n",
      "100 Ryozuki 228\n"
     ]
    }
   ],
   "source": [
    "num_mates = dict()\n",
    "for k in team_mates.keys():\n",
    "    num_mates[k] = len(team_mates[k])\n",
    "sorted_num_mates = sorted(num_mates.items(), key=lambda kv: kv[1], reverse=True)\n",
    "for i, (k, m) in enumerate(sorted_num_mates):\n",
    "    if i == 100:\n",
    "        break\n",
    "    print(i+1, k, m)"
   ],
   "metadata": {
    "collapsed": false,
    "pycharm": {
     "name": "#%%\n"
    }
   }
  },
  {
   "cell_type": "code",
   "execution_count": 34,
   "outputs": [
    {
     "name": "stdout",
     "output_type": "stream",
     "text": [
      "6510\n"
     ]
    }
   ],
   "source": [
    "selected_players = dict()\n",
    "with open('output/nicks-points_1000pts.csv', 'r', encoding='latin-1') as fp:\n",
    "    reader = csv.reader(fp, delimiter='\\t')\n",
    "    next(reader)\n",
    "    for row in reader:\n",
    "        selected_players[row[1]] = row[2]\n",
    "print(len(selected_players))"
   ],
   "metadata": {
    "collapsed": false,
    "pycharm": {
     "name": "#%%\n"
    }
   }
  },
  {
   "cell_type": "code",
   "execution_count": 47,
   "outputs": [
    {
     "name": "stdout",
     "output_type": "stream",
     "text": [
      "6439\n"
     ]
    }
   ],
   "source": [
    "selected_teammates = dict()\n",
    "id_player = dict()\n",
    "for i, k in enumerate(selected_players.keys() & team_mates.keys()):\n",
    "    tm_s = team_mates[k] & selected_players.keys()\n",
    "    if tm_s:\n",
    "        selected_teammates[k] = tm_s\n",
    "        id_player[i] = k\n",
    "print(len(selected_teammates))"
   ],
   "metadata": {
    "collapsed": false,
    "pycharm": {
     "name": "#%%\n"
    }
   }
  },
  {
   "cell_type": "code",
   "execution_count": 55,
   "outputs": [
    {
     "data": {
      "text/plain": "({'-nOobfighter-',\n  'Atomic',\n  'BAKANOBAKU',\n  'Fantas',\n  'Grâ\\x98ºsÉ\\x87r~dbc~',\n  'Lucifero',\n  'ReaLy? :3',\n  'Shiro Len',\n  'Trismaster',\n  'brainless tee',\n  'painn',\n  'rayman202',\n  'teddi'},\n 'Poklakni')"
     },
     "execution_count": 55,
     "metadata": {},
     "output_type": "execute_result"
    }
   ],
   "source": [
    "selected_teammates['Poklakni'], id_player[5000]"
   ],
   "metadata": {
    "collapsed": false,
    "pycharm": {
     "name": "#%%\n"
    }
   }
  }
 ],
 "metadata": {
  "kernelspec": {
   "display_name": "Python 3",
   "language": "python",
   "name": "python3"
  },
  "language_info": {
   "codemirror_mode": {
    "name": "ipython",
    "version": 2
   },
   "file_extension": ".py",
   "mimetype": "text/x-python",
   "name": "python",
   "nbconvert_exporter": "python",
   "pygments_lexer": "ipython2",
   "version": "2.7.6"
  }
 },
 "nbformat": 4,
 "nbformat_minor": 0
}