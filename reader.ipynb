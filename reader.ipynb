{
 "cells": [
  {
   "cell_type": "code",
   "execution_count": 102,
   "metadata": {
    "collapsed": true
   },
   "outputs": [],
   "source": [
    "def extraction(spl_line):\n",
    "    if len(spl_line) != 3:\n",
    "        print('wrong line!')\n",
    "        return None\n",
    "    else:\n",
    "        map_name, date = spl_line[0][1:], spl_line[2][:-1]\n",
    "        splt_l = spl_line[1].split('\",')\n",
    "        if len(splt_l) == 2:\n",
    "            nick, sp_l = splt_l\n",
    "            time, team_id = sp_l.split(',\"')\n",
    "        else:\n",
    "            nick, time, team_id = splt_l\n",
    "        if ',' in time:\n",
    "            time, id_reminder = time.split(',')\n",
    "            if id_reminder:\n",
    "                team_id = id_reminder + team_id\n",
    "        return map_name, nick, time, team_id, date"
   ]
  },
  {
   "cell_type": "code",
   "execution_count": 103,
   "outputs": [],
   "source": [
    "record_list = []\n",
    "\n",
    "prev_line = []\n",
    "with open('data/teamrace.csv', 'r', encoding='latin-1') as f:\n",
    "    next(f)\n",
    "    for line in f:\n",
    "        splitted_line = line.split('\",\"')\n",
    "        if len(splitted_line) == 3:\n",
    "            record_list.append(extraction(splitted_line))\n",
    "            prev_line = splitted_line\n",
    "        else:\n",
    "            if len(splitted_line) == 2 and len(prev_line) == 2:\n",
    "                new_line = [prev_line[0], prev_line[1] + splitted_line[0], splitted_line[1]]\n",
    "                record_list.append(extraction(new_line))\n",
    "                prev_line = new_line\n",
    "            else:\n",
    "                if len(splitted_line) == 1 and len(prev_line) == 2:\n",
    "                    prev_line = [prev_line[0], prev_line[1] + splitted_line[0]]\n",
    "                else:\n",
    "                    prev_line = splitted_line"
   ],
   "metadata": {
    "collapsed": false,
    "pycharm": {
     "name": "#%%\n"
    }
   }
  },
  {
   "cell_type": "code",
   "execution_count": 78,
   "outputs": [
    {
     "data": {
      "text/plain": "1274201"
     },
     "execution_count": 78,
     "metadata": {},
     "output_type": "execute_result"
    }
   ],
   "source": [
    "len(record_list)"
   ],
   "metadata": {
    "collapsed": false,
    "pycharm": {
     "name": "#%%\n"
    }
   }
  },
  {
   "cell_type": "code",
   "execution_count": 104,
   "outputs": [],
   "source": [],
   "metadata": {
    "collapsed": false,
    "pycharm": {
     "name": "#%%\n"
    }
   }
  }
 ],
 "metadata": {
  "kernelspec": {
   "display_name": "Python 3",
   "language": "python",
   "name": "python3"
  },
  "language_info": {
   "codemirror_mode": {
    "name": "ipython",
    "version": 2
   },
   "file_extension": ".py",
   "mimetype": "text/x-python",
   "name": "python",
   "nbconvert_exporter": "python",
   "pygments_lexer": "ipython2",
   "version": "2.7.6"
  }
 },
 "nbformat": 4,
 "nbformat_minor": 0
}