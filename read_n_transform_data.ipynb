{
 "cells": [
  {
   "cell_type": "markdown",
   "source": [
    "Чтение файла *teamrace.csv*"
   ],
   "metadata": {
    "collapsed": false
   }
  },
  {
   "cell_type": "code",
   "execution_count": 1,
   "metadata": {
    "collapsed": true
   },
   "outputs": [],
   "source": [
    "import csv\n",
    "from collections import defaultdict\n",
    "\n",
    "\n",
    "def extraction(spl_line):\n",
    "    if len(spl_line) != 3:\n",
    "        print('wrong line!')\n",
    "        return None\n",
    "    else:\n",
    "        map_name, date = spl_line[0][1:], spl_line[2][:-1]\n",
    "        splt_l = spl_line[1].split('\",')\n",
    "        if len(splt_l) == 2:\n",
    "            nick, sp_l = splt_l\n",
    "            time, team_id = sp_l.split(',\"')\n",
    "        else:\n",
    "            nick, time, team_id = splt_l\n",
    "        if ',' in time:\n",
    "            time, id_reminder = time.split(',')\n",
    "            if id_reminder:\n",
    "                team_id = id_reminder + team_id\n",
    "        return map_name, nick, time, team_id, date"
   ]
  },
  {
   "cell_type": "code",
   "execution_count": 2,
   "outputs": [
    {
     "data": {
      "text/plain": "1274201"
     },
     "execution_count": 2,
     "metadata": {},
     "output_type": "execute_result"
    }
   ],
   "source": [
    "record_list = []\n",
    "\n",
    "prev_line = []\n",
    "with open('data/teamrace.csv', 'r', encoding='latin-1') as f:\n",
    "    next(f)\n",
    "    for line in f:\n",
    "        splitted_line = line.split('\",\"')\n",
    "        if len(splitted_line) == 3:\n",
    "            record_list.append(extraction(splitted_line))\n",
    "            prev_line = splitted_line\n",
    "        else:\n",
    "            if len(splitted_line) == 2 and len(prev_line) == 2:\n",
    "                new_line = [prev_line[0], prev_line[1] + splitted_line[0], splitted_line[1]]\n",
    "                record_list.append(extraction(new_line))\n",
    "                prev_line = new_line\n",
    "            else:\n",
    "                if len(splitted_line) == 1 and len(prev_line) == 2:\n",
    "                    prev_line = [prev_line[0], prev_line[1] + splitted_line[0]]\n",
    "                else:\n",
    "                    prev_line = splitted_line\n",
    "len(record_list)"
   ],
   "metadata": {
    "collapsed": false,
    "pycharm": {
     "name": "#%%\n"
    }
   }
  },
  {
   "cell_type": "code",
   "execution_count": 3,
   "outputs": [
    {
     "name": "stdout",
     "output_type": "stream",
     "text": [
      "6510\n"
     ]
    }
   ],
   "source": [
    "selected_players = dict()\n",
    "with open('output/nicks-points_1000pts.csv', 'r', encoding='latin-1') as fp:\n",
    "    reader = csv.reader(fp, delimiter='\\t')\n",
    "    next(reader)\n",
    "    for row in reader:\n",
    "        selected_players[row[1]] = row[2]\n",
    "print(len(selected_players))"
   ],
   "metadata": {
    "collapsed": false,
    "pycharm": {
     "name": "#%%\n"
    }
   }
  },
  {
   "cell_type": "code",
   "execution_count": 4,
   "outputs": [
    {
     "name": "stdout",
     "output_type": "stream",
     "text": [
      "587865\n"
     ]
    }
   ],
   "source": [
    "teamid_dict = defaultdict(set)\n",
    "for row in record_list:\n",
    "    teamid_dict[row[3]].add(row[1])\n",
    "print(len(teamid_dict))"
   ],
   "metadata": {
    "collapsed": false,
    "pycharm": {
     "name": "#%%\n"
    }
   }
  },
  {
   "cell_type": "code",
   "execution_count": 5,
   "outputs": [
    {
     "name": "stdout",
     "output_type": "stream",
     "text": [
      "6439\n"
     ]
    }
   ],
   "source": [
    "team_mates = dict()\n",
    "sp = selected_players.keys()\n",
    "\n",
    "for tid in teamid_dict.keys():\n",
    "    for player in teamid_dict[tid]:\n",
    "        for mate in teamid_dict[tid]:\n",
    "            if player in sp and mate in sp:\n",
    "                if player not in team_mates.keys():\n",
    "                    team_mates[player] = dict()\n",
    "                if mate not in team_mates[player].keys():\n",
    "                    team_mates[player][mate] = 1\n",
    "                else:\n",
    "                    team_mates[player][mate] += 1\n",
    "for k in list(team_mates.keys()):\n",
    "    del team_mates[k][k]\n",
    "    if not team_mates[k]:\n",
    "        del team_mates[k]\n",
    "print(len(team_mates))"
   ],
   "metadata": {
    "collapsed": false,
    "pycharm": {
     "name": "#%%\n"
    }
   }
  },
  {
   "cell_type": "code",
   "execution_count": 6,
   "outputs": [
    {
     "data": {
      "text/plain": "{'Anni': 1,\n 'whÃ½': 34,\n 'Faramoz': 23,\n 'Jambi*': 7,\n 'Deluxe': 1,\n 'TeeLee': 2,\n 'White Shark': 2,\n 'AbortiÃ¸nErrÃ¸r': 7,\n 'Livio': 1,\n 'Jakral': 11,\n 'Fexa': 19,\n 'gigi7187': 6,\n 'Zephir': 3,\n 'bano': 1,\n 'SmokeR': 1,\n 'zup': 1,\n 'Skrill': 1,\n 'Mad and Funny': 1,\n '.Sadabenn': 1,\n 'SirVivi': 1,\n 'e32': 1,\n 'ProsTo/urpok/': 1,\n 'By^Kuroko': 1,\n '.mario>': 1,\n 'Negativ': 13,\n 'trololo': 1,\n 'Inaccuracy': 3,\n 'Sad*Boy': 1,\n 'Toxicvipa': 1,\n 'Weeboo': 1,\n 'Pastoer': 3,\n 'Natsume': 1,\n 'teeles name': 1,\n 'Black': 1,\n 'Likyta': 2,\n 'Haraknos': 1,\n 'RavQ': 2,\n 'Tero': 2,\n 'BaconDrink': 24,\n 'Alasia <3': 2,\n 'Qu!ck': 1,\n 'BayBaeBear': 1,\n 'Seppl': 1,\n 'GrifonSS': 1,\n 'MrJerry': 1,\n 'Damocles': 2,\n 'Oh no': 1,\n 'Axaris': 21,\n 'Reonarex': 5,\n 'Sepsentto': 1,\n 'MKplays4U': 1,\n 'Luffy': 1,\n 'ania': 1,\n \"Fckin'\": 2,\n 'm ga-tee': 1,\n 'Moryspooks': 1,\n 'Krasty': 1,\n 'CheekepoO': 4,\n 'Matrix': 1,\n 'SUKA': 4,\n '<~{Barsik}~>': 1,\n 'Antoki': 1,\n 'Victory': 1,\n 'Nagini': 5,\n 'notfix': 1,\n '~0': 3,\n 'Henk': 1,\n 'Karol': 1,\n 'SoSb': 5,\n 'NetFusion': 1,\n 'V~electrone': 1,\n 'Teek': 2,\n 'Essentiel': 1,\n 'WhÃ®teÃ\\x98ne': 1,\n 'Sanjar': 1,\n 'CptDalv': 1,\n 'The real LOL': 1,\n 'Tanatopsis': 1,\n 'Lier.': 1,\n 'Black Jack': 3,\n 'IIIIIIIIIIIIIII': 2,\n 'Chevy': 1,\n 'Chirua': 5,\n 'vanik': 1,\n 'ad': 272,\n 'Colgate.': 1,\n 'safddsa': 1,\n 'Mugii': 1,\n \"B'RexterPL\": 9,\n 'MtKuma': 1,\n 'Theon': 7,\n 'VisiÃ¸Æ\\x9eX': 1,\n 'it robertusg': 30,\n 'Krawalski': 2,\n 'bzw': 2,\n 'ReD': 17,\n 'Ê\\x82Æ\\x99É¾Î¹Ê\\x85Ê\\x85Ò½x': 1,\n 'Borup': 3,\n 'GfFhgh': 1,\n 'LePyromen': 1,\n 'Eratyck': 2,\n 'not PeX': 11,\n 'reVar': 1,\n 'Sweeeeet GM :>': 1,\n 'Smardey': 1,\n 'Al.Se.': 1,\n 'â\\x84¬Ï\\x83â\\x84\\x9cÒ¿â\\x85\\x85.': 16,\n 'NRG': 1,\n 'Æ\\x92irewâ\\x88\\x82â\\x88\\x9ae': 1,\n \"'faceless\": 1,\n 'RageBaby': 1,\n 'KrÃ³kette': 1,\n 'TeeWurst Neon': 7,\n 'â\\x94\\x87Â»MiMÂ«â\\x94\\x87': 1,\n 'KRN': 1,\n 'cunt': 1,\n 'Luna': 4,\n 'Sopol': 1,\n 'Zwelf': 1,\n 'simple': 4,\n 'Work': 1,\n '[D] Zwelf': 1,\n 'Patiga': 14,\n 'G@$Tr0': 1,\n 'El qp': 1,\n 'nori': 1,\n 'brainless tii': 1,\n '*~Cooki3~*': 1,\n 'Khejanin': 2,\n 'Edy': 3,\n \"Ex'(*SPIDER*)\": 1,\n 'Pados': 1,\n 'Noctua': 1,\n 'AssasinMaster': 2,\n 'Peter Gandalf': 1,\n 'seLFiii <33': 1,\n 'Keiss': 2,\n 'szaro': 1,\n 'PlantKnight': 3,\n 'Shima enaga': 2,\n 'kamino': 1,\n 'lola': 1,\n 'Thundercat': 6,\n 'LCSG47': 5,\n 'GreenDragons': 1,\n 'Tadzio': 2,\n 'Kicker': 1,\n 'miu': 1,\n 'Latunix': 1,\n 'AvapiX': 67,\n 'É\\x8cÃ¸Î·É\\x8bÈµ': 1,\n 'Teeson': 2,\n 'russsell': 1,\n 'Lagar': 3,\n 'Zedow': 1,\n 'Elit3N0ob': 2,\n 'Cana': 1,\n 'Kill4FuN': 1,\n 'shoxX': 1,\n 'Ã\\xadá¶®Ï\\xa0i': 1,\n 'Ï\\x85gly god': 1,\n 'SvechAS': 3,\n 'Pilotaraflo_': 8,\n 'ScreaT': 1,\n 'Songoku': 1,\n 'Deathman': 1,\n \"Radoo-'SaT\": 1,\n 'Silver': 1,\n 'Yuzu': 1,\n 'Vorpallulu': 3,\n 'Baby Groot': 3,\n 'Ama': 3,\n 'shameless tee': 3,\n 'Monik': 1,\n 'PeX flex': 1,\n 'plex the flex': 1,\n 'cB Yeassss': 1,\n 'DummpiX': 4,\n 'ZimE': 2,\n 'ScReeNy': 1,\n 'Venki': 3,\n 'HÙ¤Ð¸Ä\\x91Ø¹Ð³Ä©Î±': 5,\n '|JB*|Golden Axe': 4,\n 'É±elanÕ¤ie': 1,\n 'Celrus': 2,\n 'Mewie': 1,\n 'Sanvorg': 1,\n 'AspHyXiA': 2,\n 'Aca^': 3,\n 'Z[a]X': 3,\n 'Nooback': 3,\n 'PBAB': 1,\n 'Shoter': 3,\n 'B.i.G': 1,\n 'Ð\\x9aÐ»Ñ\\x91Ð¿Ð°': 2,\n 'Mettwurst Neon': 2,\n 'Ð¡Ñ\\x87Ð°Ñ\\x81Ñ\\x82Ñ\\x8cÐµ': 1,\n 'RPG7609': 1,\n 'superob96': 18,\n 'BlueMeww': 1,\n 'PandaPrime': 1,\n 'WhiteBULL': 6,\n \"clefairy'\": 1,\n 'Å\\x81Ç¿È¡Ç¿4Æ\\x99Ä\\x85': 1,\n 'Phoenix': 8,\n 'Reddy': 1,\n 'Ð\\x9cÐ°Ð¼Ð±Ð¾': 1,\n 'Hel1oween': 1,\n 'growing': 1,\n 'Cyril1098s': 1,\n 'TDPL': 1,\n 'nathanj': 2,\n 'Oldnescius': 1,\n '.Bearz*': 1,\n 'Ketz': 1,\n 'Knuski': 1,\n 'kisteklak': 1,\n 'Vexis': 1,\n 'Be3yXa': 2,\n \"X-Ray'\": 3,\n 'Remi030': 1,\n 'Chao': 3,\n 'Fireball': 2,\n 'RockerMan': 1,\n 'Profi': 1,\n '*|Loading*': 1,\n 'Ciniminix': 2,\n 'Polector': 1,\n 'Candyx*': 1,\n 'Smetanolub': 5,\n 'Element Finland': 1,\n 'Axeim': 1,\n 'Evgesha': 3,\n 'FunCat': 2,\n 'Issi': 1,\n 'Smooth Lee': 1,\n 'Meow~': 1,\n 'asu': 1,\n ':)': 2,\n 'Sir Skeleton': 1,\n 'Sir Kruksic': 1,\n 'Acrolol': 1,\n 'golfparty': 2,\n 'adas1313': 3,\n 'Raksoer': 3,\n 'Flappe': 2,\n 'Juicy': 3,\n 'Nugget': 3,\n 'Sewix': 1,\n 'teeless tee': 1,\n 'nameless tee': 1,\n 'marzzzello': 1,\n 'Isaac.': 1,\n 'guess whos back': 1,\n '0x314': 1}"
     },
     "execution_count": 6,
     "metadata": {},
     "output_type": "execute_result"
    }
   ],
   "source": [
    "team_mates['PeX']"
   ],
   "metadata": {
    "collapsed": false,
    "pycharm": {
     "name": "#%%\n"
    }
   }
  },
  {
   "cell_type": "code",
   "execution_count": 7,
   "outputs": [
    {
     "name": "stdout",
     "output_type": "stream",
     "text": [
      "1 brainless tee 797\n",
      "2 Noctua 446\n",
      "3 nameless tee 432\n",
      "4 Cendren 419\n",
      "5 bano 394\n",
      "6 (1) 371\n",
      "7 fikmesÃ¥n 328\n",
      "8 :) 313\n",
      "9 iParano 308\n",
      "10 <BÂµmM> 305\n",
      "11 Aoe 295\n",
      "12 TeeWurst Neon 276\n",
      "13 Cireme 272\n",
      "14 Deathman 272\n",
      "15 Freezestyler 271\n",
      "16 triki 264\n",
      "17 KlexMikrowelle 264\n",
      "18 HaHAxD* 262\n",
      "19 CÃ¸ke 259\n",
      "20 ZimE 258\n",
      "21 Esckiller 257\n",
      "22 Kicker 256\n",
      "23 PeX 255\n",
      "24 AvapiX 245\n",
      "25 GlobQ 243\n",
      "26 Hindu 239\n",
      "27 shoxX 238\n",
      "28 Theon 236\n",
      "29 Ð¡ÑÐ°ÑÑÑÐµ 234\n",
      "30 Tezcan 233\n",
      "31 Meow~ 231\n",
      "32 Bolox 231\n",
      "33 'faceless 229\n",
      "34 Chairn 228\n",
      "35 superob96 221\n",
      "36 Avasus 218\n",
      "37 Cor 217\n",
      "38 Elit3N0ob 216\n",
      "39 |JB*|Golden Axe 215\n",
      "40 krÃ¼melmonster 212\n",
      "41 Kill4FuN 211\n",
      "42 BaconDrink 209\n",
      "43 nothing 208\n",
      "44 ad 208\n",
      "45 NeXus 207\n",
      "46 Starkiller 206\n",
      "47 lufu1 202\n",
      "48 Large 202\n",
      "49 Colo-Colo 202\n",
      "50 LCSG47 201\n",
      "51 Nooback 201\n",
      "52 StorÐ¼PÊÃ¶É´ix 200\n",
      "53 Black Jack 200\n",
      "54 Yota. 200\n",
      "55 Poltix 199\n",
      "56 simple 199\n",
      "57 DaGiese :> 198\n",
      "58 â¥|Duca 198\n",
      "59 Slayer 198\n",
      "60 Konsti 197\n",
      "61 Juicy 197\n",
      "62 YaaOmo 195\n",
      "63 jao 195\n",
      "64 Keun 193\n",
      "65 Donger 193\n",
      "66 R41NB0W 192\n",
      "67 qed 192\n",
      "68 Zhady 191\n",
      "69 ScReeNy 186\n",
      "70 coradax 185\n",
      "71 gB. | Kayumi 183\n",
      "72 Element Finland 183\n",
      "73 Smetanolub 182\n",
      "74 seLFiii <33 180\n",
      "75 hannibal 180\n",
      "76 =Schulzer= 180\n",
      "77 Exotix 180\n",
      "78 xXxTee' 180\n",
      "79 *|Loading* 179\n",
      "80 Jojo 179\n",
      "81 ReD 178\n",
      "82 Lady Saavik 177\n",
      "83 |ÅaÃ¾Å§urÄ| 175\n",
      "84 Skindred 175\n",
      "85 SPÎCTRUM 174\n",
      "86 Baby Groot 173\n",
      "87 ano :3 171\n",
      "88 Welf 170\n",
      "89 (1)brainless te 169\n",
      "90 sorgaxD 168\n",
      "91 froid.' 168\n",
      "92 Ryozuki 168\n",
      "93 Shima enaga 168\n",
      "94 Knacker 167\n",
      "95 yo bitch 167\n",
      "96 rezee 167\n",
      "97 Cherry 165\n",
      "98 HÙ¤Ð¸ÄØ¹Ð³Ä©Î± 165\n",
      "99 PlantKnight 164\n",
      "100 RavenXXX 163\n"
     ]
    }
   ],
   "source": [
    "num_mates = dict()\n",
    "for k in team_mates.keys():\n",
    "    num_mates[k] = len(team_mates[k])\n",
    "sorted_num_mates = sorted(num_mates.items(), key=lambda kv: kv[1], reverse=True)\n",
    "for i, (k, m) in enumerate(sorted_num_mates):\n",
    "    if i == 100:\n",
    "        break\n",
    "    print(i+1, k, m)"
   ],
   "metadata": {
    "collapsed": false,
    "pycharm": {
     "name": "#%%\n"
    }
   }
  },
  {
   "cell_type": "code",
   "execution_count": 8,
   "outputs": [
    {
     "data": {
      "text/plain": "(('-KingDom-', 1), {'Kandiifloss': 27})"
     },
     "execution_count": 8,
     "metadata": {},
     "output_type": "execute_result"
    }
   ],
   "source": [
    "sorted_num_mates[-2], team_mates['-KingDom-']"
   ],
   "metadata": {
    "collapsed": false,
    "pycharm": {
     "name": "#%%\n"
    }
   }
  },
  {
   "cell_type": "code",
   "execution_count": 37,
   "outputs": [
    {
     "name": "stdout",
     "output_type": "stream",
     "text": [
      "210280\n"
     ]
    }
   ],
   "source": [
    "pairs = []\n",
    "for k in team_mates.keys():\n",
    "    for m in team_mates[k].keys():\n",
    "        pairs.append([k, m, team_mates[k][m]])\n",
    "print(len(pairs))"
   ],
   "metadata": {
    "collapsed": false,
    "pycharm": {
     "name": "#%%\n"
    }
   }
  },
  {
   "cell_type": "code",
   "execution_count": 38,
   "outputs": [
    {
     "name": "stdout",
     "output_type": "stream",
     "text": [
      "1 NovaShock [D]NovaShock 1015\n",
      "2 [D]NovaShock NovaShock 1015\n",
      "3 âÂ»MiMÂ«â Cazanna 981\n",
      "4 Cazanna âÂ»MiMÂ«â 981\n",
      "5 Cor (D)Cor 694\n",
      "6 (D)Cor Cor 694\n",
      "7 Tropo NANAMAR 666\n",
      "8 NANAMAR Tropo 666\n",
      "9 egorfake Imperius 633\n",
      "10 Imperius egorfake 633\n",
      "11 QzBoY Bes 619\n",
      "12 Bes QzBoY 619\n",
      "13 daladen WillR 610\n",
      "14 WillR daladen 610\n",
      "15 coradax [D]coradax 542\n",
      "16 [D]coradax coradax 542\n",
      "17 Cadi [D] Cadi 516\n",
      "18 [D] Cadi Cadi 516\n",
      "19 Wollwolke Kessá§ 484\n",
      "20 Kessá§ Wollwolke 484\n",
      "21 Limbo FUMOFFU 478\n",
      "22 FUMOFFU Limbo 478\n",
      "23 Rakudai iadukaR 468\n",
      "24 iadukaR Rakudai 468\n",
      "25 FiL [D]FiL 461\n",
      "26 [D]FiL FiL 461\n",
      "27 zelda. jao 440\n",
      "28 jao zelda. 440\n",
      "29 Soapy Sandwich stompie 439\n",
      "30 stompie Soapy Sandwich 439\n",
      "31 .:Danytto:. Grk0ne 437\n",
      "32 Grk0ne .:Danytto:. 437\n",
      "33 Rathonzita Hieloo 437\n",
      "34 Hieloo Rathonzita 437\n",
      "35 dopy nopesy 433\n",
      "36 nopesy dopy 433\n",
      "37 Soapy Sandwich OverturnedOnion 432\n",
      "38 OverturnedOnion Soapy Sandwich 432\n",
      "39 TyÑkaNÑuk (1)TyÑkaNÑuk 430\n",
      "40 (1)TyÑkaNÑuk TyÑkaNÑuk 430\n",
      "41 Chillbreaker SpeedyGER 415\n",
      "42 SpeedyGER Chillbreaker 415\n",
      "43 natchies N9mkOik 412\n",
      "44 N9mkOik natchies 412\n",
      "45 Esckiller Pasta 400\n",
      "46 Pasta Esckiller 400\n",
      "47 Skaydox Goran 393\n",
      "48 Goran Skaydox 393\n",
      "49 NISO Graves 384\n",
      "50 Graves NISO 384\n",
      "51 Brokecdx- painn 382\n",
      "52 painn Brokecdx- 382\n",
      "53 Soapy Sandwich NovaShock 379\n",
      "54 .:Danytto:. Colo-Colo 379\n",
      "55 Colo-Colo .:Danytto:. 379\n",
      "56 NovaShock Soapy Sandwich 379\n",
      "57 jet`s dummy .:JeT:. 375\n",
      "58 .:JeT:. jet`s dummy 375\n",
      "59 LanuX brain 370\n",
      "60 brain LanuX 370\n",
      "61 White-King {    } 370\n",
      "62 {    } White-King 370\n",
      "63 Knuski ÉÃ¸Î·ÉÈµ 367\n",
      "64 ÉÃ¸Î·ÉÈµ Knuski 367\n",
      "65 I.K.U cringe+ 366\n",
      "66 cringe+ I.K.U 366\n",
      "67 Rolf Obst 353\n",
      "68 Obst Rolf 353\n",
      "69 Kicker yishun 353\n",
      "70 yishun Kicker 353\n",
      "71 Esckiller Zwelf 349\n",
      "72 Zwelf Esckiller 349\n",
      "73 ByEdGaR [D] ByEdGaR 347\n",
      "74 [D] ByEdGaR ByEdGaR 347\n",
      "75 Konsti itsnoKonsti 346\n",
      "76 itsnoKonsti Konsti 346\n",
      "77 Brokecdx- rockuS 338\n",
      "78 rockuS Brokecdx- 338\n",
      "79 Goran Beiroc 330\n",
      "80 Beiroc Goran 330\n",
      "81 rqza Cans 328\n",
      "82 superdial Matrix 328\n",
      "83 Cans rqza 328\n",
      "84 Matrix superdial 328\n",
      "85 fikmesÃ¥n snailx3 326\n",
      "86 snailx3 fikmesÃ¥n 326\n",
      "87 ÑÏx tuxsux 324\n",
      "88 .:Danytto:. .DanieL. 324\n",
      "89 .DanieL. .:Danytto:. 324\n",
      "90 tuxsux ÑÏx 324\n",
      "91 Akari Spectre II 324\n",
      "92 Spectre II Akari 324\n",
      "93 milk bluekitty 321\n",
      "94 bluekitty milk 321\n",
      "95 Starkiller StarkillerJr.<3 321\n",
      "96 StarkillerJr.<3 Starkiller 321\n",
      "97 electrohock777 electro 320\n",
      "98 electro electrohock777 320\n",
      "99 Ark :3 Obst 317\n",
      "100 Obst Ark :3 317\n"
     ]
    }
   ],
   "source": [
    "sorted_pairs = sorted(pairs, key=lambda x: x[2], reverse=True)\n",
    "for i, (p1, p2, c) in enumerate(sorted_pairs):\n",
    "    if i == 100:\n",
    "        break\n",
    "    print(i+1, p1, p2, c)"
   ],
   "metadata": {
    "collapsed": false,
    "pycharm": {
     "name": "#%%\n"
    }
   }
  },
  {
   "cell_type": "code",
   "execution_count": 40,
   "outputs": [
    {
     "data": {
      "text/plain": "11"
     },
     "execution_count": 40,
     "metadata": {},
     "output_type": "execute_result"
    }
   ],
   "source": [
    "count_bins = defaultdict(int)\n",
    "for _, _, cnt in pairs:\n",
    "    if cnt == 1:\n",
    "        count_bins['1'] += 1\n",
    "    if 2 <= cnt <= 3:\n",
    "        count_bins['2-3'] += 1\n",
    "    if 4 <= cnt <= 5:\n",
    "        count_bins['4-5'] += 1\n",
    "    if 6 <= cnt <= 10:\n",
    "        count_bins['6-10'] += 1\n",
    "    if 11 <= cnt <= 20:\n",
    "        count_bins['11-20'] += 1\n",
    "    if 21 <= cnt <= 50:\n",
    "        count_bins['21-50'] += 1\n",
    "    if 51 <= cnt <= 100:\n",
    "        count_bins['51-100'] += 1\n",
    "    if 101 <= cnt <= 200:\n",
    "        count_bins['101-200'] += 1\n",
    "    if 201 <= cnt <= 300:\n",
    "        count_bins['201-300'] += 1\n",
    "    if 301 <= cnt <= 500:\n",
    "        count_bins['301-500'] += 1\n",
    "    if 501 <= cnt:\n",
    "        count_bins['501+'] += 1\n",
    "len(count_bins)"
   ],
   "metadata": {
    "collapsed": false,
    "pycharm": {
     "name": "#%%\n"
    }
   }
  },
  {
   "cell_type": "code",
   "execution_count": 41,
   "outputs": [
    {
     "name": "stdout",
     "output_type": "stream",
     "text": [
      "4-5 11444\n",
      "11-20 5768\n",
      "21-50 3740\n",
      "1 138064\n",
      "2-3 38934\n",
      "6-10 10110\n",
      "51-100 1298\n",
      "101-200 668\n",
      "201-300 142\n",
      "301-500 94\n",
      "501+ 18\n"
     ]
    }
   ],
   "source": [
    "for k, c in count_bins.items():\n",
    "    print(k, c)"
   ],
   "metadata": {
    "collapsed": false,
    "pycharm": {
     "name": "#%%\n"
    }
   }
  },
  {
   "cell_type": "code",
   "execution_count": 42,
   "outputs": [],
   "source": [
    "def get_edge_weight(t_c):\n",
    "    w = 0\n",
    "    if t_c == 1:\n",
    "        w = 0.05\n",
    "    if 2 <= t_c <= 3:\n",
    "        w = 0.075\n",
    "    if 4 <= t_c <= 5:\n",
    "        w = 0.1\n",
    "    if 6 <= t_c <= 10:\n",
    "        w = 0.2\n",
    "    if 11 <= t_c <= 20:\n",
    "        w = 0.3\n",
    "    if 21 <= t_c <= 50:\n",
    "        w = 0.4\n",
    "    if 51 <= t_c <= 100:\n",
    "        w = 0.5\n",
    "    if 101 <= t_c <= 200:\n",
    "        w = 0.7\n",
    "    if 201 <= t_c <= 300:\n",
    "        w = 0.8\n",
    "    if 301 <= t_c <= 500:\n",
    "        w = 0.9\n",
    "    if 501 <= t_c:\n",
    "        w = 1\n",
    "    return w"
   ],
   "metadata": {
    "collapsed": false,
    "pycharm": {
     "name": "#%%\n"
    }
   }
  },
  {
   "cell_type": "code",
   "execution_count": 43,
   "outputs": [
    {
     "name": "stdout",
     "output_type": "stream",
     "text": [
      "[\"onionly .me'\", 'EryX', 0.1] [\"onionly .me'\", 'LanuX', 0.05] ['é¥ºå\\xad\\x90', 'QWQ', 0.05]\n"
     ]
    }
   ],
   "source": [
    "for i in range(len(pairs)):\n",
    "    pairs[i] = [pairs[i][0], pairs[i][1], get_edge_weight(pairs[i][2])]\n",
    "print(pairs[0], pairs[10], pairs[-1])"
   ],
   "metadata": {
    "collapsed": false,
    "pycharm": {
     "name": "#%%\n"
    }
   }
  },
  {
   "cell_type": "code",
   "execution_count": null,
   "outputs": [],
   "source": [
    "# G.add_weighted_edges_from([(0,1,3.0),(1,2,7.5)])"
   ],
   "metadata": {
    "collapsed": false,
    "pycharm": {
     "name": "#%%\n"
    }
   }
  }
 ],
 "metadata": {
  "kernelspec": {
   "display_name": "Python 3",
   "language": "python",
   "name": "python3"
  },
  "language_info": {
   "codemirror_mode": {
    "name": "ipython",
    "version": 2
   },
   "file_extension": ".py",
   "mimetype": "text/x-python",
   "name": "python",
   "nbconvert_exporter": "python",
   "pygments_lexer": "ipython2",
   "version": "2.7.6"
  }
 },
 "nbformat": 4,
 "nbformat_minor": 0
}