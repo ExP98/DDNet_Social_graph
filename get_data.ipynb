{
 "cells": [
  {
   "cell_type": "code",
   "execution_count": 1,
   "metadata": {
    "collapsed": true
   },
   "outputs": [],
   "source": [
    "import csv\n",
    "import pickle\n",
    "from collections import defaultdict"
   ]
  },
  {
   "cell_type": "markdown",
   "source": [
    "Получение списка игроков с числом очков больше 10000 (/ 7500 / 5000)"
   ],
   "metadata": {
    "collapsed": false,
    "pycharm": {
     "name": "#%% md\n"
    }
   }
  },
  {
   "cell_type": "code",
   "execution_count": 2,
   "outputs": [
    {
     "name": "stdout",
     "output_type": "stream",
     "text": [
      "2025\n"
     ]
    }
   ],
   "source": [
    "map_points = {}\n",
    "with open('data/maps.csv', 'r', encoding='latin-1') as fp:\n",
    "    reader = csv.reader(fp, delimiter=',')\n",
    "    next(reader)\n",
    "    for row in reader:\n",
    "        map_points[row[0]] = int(row[2])\n",
    "print(len(map_points))\n"
   ],
   "metadata": {
    "collapsed": false,
    "pycharm": {
     "name": "#%%\n"
    }
   }
  },
  {
   "cell_type": "code",
   "execution_count": 3,
   "outputs": [
    {
     "name": "stdout",
     "output_type": "stream",
     "text": [
      "459661\n"
     ]
    }
   ],
   "source": [
    "players = defaultdict(set)\n",
    "with open('data/race.csv', 'r', encoding='latin-1') as fp:\n",
    "    reader = csv.reader(fp, delimiter=',')\n",
    "    next(reader)\n",
    "    for row in reader:\n",
    "        if len(row) == 5:\n",
    "            players[row[1]].add(row[0])\n",
    "        elif len(row) == 4:\n",
    "            players[row[1].split('\",')[0]].add(row[0])\n",
    "        elif len(row) == 6:\n",
    "            players[row[1] + row[2]].add(row[0])\n",
    "        elif len(row) == 3:\n",
    "            players[row[1].split('\",')[0]].add(row[0])\n",
    "print(len(players))\n"
   ],
   "metadata": {
    "collapsed": false,
    "pycharm": {
     "name": "#%%\n"
    }
   }
  },
  {
   "cell_type": "code",
   "execution_count": 4,
   "outputs": [
    {
     "name": "stdout",
     "output_type": "stream",
     "text": [
      "11317\n",
      "27795\n"
     ]
    }
   ],
   "source": [
    "selected_players = dict()\n",
    "for player in players.keys():\n",
    "    pts = 0\n",
    "    for map_name in players[player]:\n",
    "        pts += map_points[map_name]\n",
    "    if pts >= 7500:\n",
    "        selected_players[player] = pts\n",
    "\n",
    "print(selected_players['PeX'])\n",
    "print(selected_players['Cor'])\n",
    "del map_points\n",
    "del players"
   ],
   "metadata": {
    "collapsed": false,
    "pycharm": {
     "name": "#%%\n"
    }
   }
  },
  {
   "cell_type": "markdown",
   "source": [
    "Получение списка сокомандников"
   ],
   "metadata": {
    "collapsed": false,
    "pycharm": {
     "name": "#%% md\n"
    }
   }
  },
  {
   "cell_type": "code",
   "execution_count": 5,
   "outputs": [],
   "source": [
    "def extraction(spl_line):\n",
    "    if len(spl_line) != 3:\n",
    "        print('wrong line!')\n",
    "        return None\n",
    "    else:\n",
    "        mapname, date = spl_line[0][1:], spl_line[2][:-1]\n",
    "        splt_l = spl_line[1].split('\",')\n",
    "        if len(splt_l) == 2:\n",
    "            nick, sp_l = splt_l\n",
    "            time, team_id = sp_l.split(',\"')\n",
    "        else:\n",
    "            nick, time, team_id = splt_l\n",
    "        if ',' in time:\n",
    "            time, id_reminder = time.split(',')\n",
    "            if id_reminder:\n",
    "                team_id = id_reminder + team_id\n",
    "        return mapname, nick, time, team_id, date\n"
   ],
   "metadata": {
    "collapsed": false,
    "pycharm": {
     "name": "#%%\n"
    }
   }
  },
  {
   "cell_type": "code",
   "execution_count": 6,
   "outputs": [
    {
     "data": {
      "text/plain": "1274201"
     },
     "execution_count": 6,
     "metadata": {},
     "output_type": "execute_result"
    }
   ],
   "source": [
    "record_list = []\n",
    "\n",
    "prev_line = []\n",
    "with open('data/teamrace.csv', 'r', encoding='latin-1') as f:\n",
    "    next(f)\n",
    "    for line in f:\n",
    "        splitted_line = line.split('\",\"')\n",
    "        if len(splitted_line) == 3:\n",
    "            record_list.append(extraction(splitted_line))\n",
    "            prev_line = splitted_line\n",
    "        else:\n",
    "            if len(splitted_line) == 2 and len(prev_line) == 2:\n",
    "                new_line = [prev_line[0], prev_line[1] + splitted_line[0], splitted_line[1]]\n",
    "                record_list.append(extraction(new_line))\n",
    "                prev_line = new_line\n",
    "            else:\n",
    "                if len(splitted_line) == 1 and len(prev_line) == 2:\n",
    "                    prev_line = [prev_line[0], prev_line[1] + splitted_line[0]]\n",
    "                else:\n",
    "                    prev_line = splitted_line\n",
    "len(record_list)"
   ],
   "metadata": {
    "collapsed": false,
    "pycharm": {
     "name": "#%%\n"
    }
   }
  },
  {
   "cell_type": "code",
   "execution_count": 7,
   "outputs": [
    {
     "name": "stdout",
     "output_type": "stream",
     "text": [
      "587865\n"
     ]
    }
   ],
   "source": [
    "teamid_dict = defaultdict(set)\n",
    "for row in record_list:\n",
    "    teamid_dict[row[3]].add(row[1])\n",
    "\n",
    "print(len(teamid_dict))\n",
    "del record_list"
   ],
   "metadata": {
    "collapsed": false,
    "pycharm": {
     "name": "#%%\n"
    }
   }
  },
  {
   "cell_type": "code",
   "execution_count": 8,
   "outputs": [
    {
     "name": "stdout",
     "output_type": "stream",
     "text": [
      "520\n"
     ]
    }
   ],
   "source": [
    "team_mates = dict()\n",
    "sp = selected_players.keys()\n",
    "\n",
    "for tid in teamid_dict.keys():\n",
    "    for player in teamid_dict[tid]:\n",
    "        for mate in teamid_dict[tid]:\n",
    "            if player in sp and mate in sp:\n",
    "                if player not in team_mates.keys():\n",
    "                    team_mates[player] = dict()\n",
    "                if mate not in team_mates[player].keys():\n",
    "                    team_mates[player][mate] = 1\n",
    "                else:\n",
    "                    team_mates[player][mate] += 1\n",
    "for k in list(team_mates.keys()):\n",
    "    del team_mates[k][k]\n",
    "    if not team_mates[k]:\n",
    "        del team_mates[k]\n",
    "\n",
    "print(len(team_mates))\n",
    "del teamid_dict"
   ],
   "metadata": {
    "collapsed": false,
    "pycharm": {
     "name": "#%%\n"
    }
   }
  },
  {
   "cell_type": "code",
   "execution_count": 9,
   "outputs": [],
   "source": [
    "def get_edge_weight(t_c):\n",
    "    w = 0\n",
    "    if t_c == 1:\n",
    "        w = 0.05\n",
    "    if 2 <= t_c <= 3:\n",
    "        w = 0.075\n",
    "    if 4 <= t_c <= 5:\n",
    "        w = 0.1\n",
    "    if 6 <= t_c <= 10:\n",
    "        w = 0.2\n",
    "    if 11 <= t_c <= 20:\n",
    "        w = 0.3\n",
    "    if 21 <= t_c <= 50:\n",
    "        w = 0.4\n",
    "    if 51 <= t_c <= 100:\n",
    "        w = 0.5\n",
    "    if 101 <= t_c <= 200:\n",
    "        w = 0.7\n",
    "    if 201 <= t_c <= 300:\n",
    "        w = 0.8\n",
    "    if 301 <= t_c <= 500:\n",
    "        w = 0.9\n",
    "    if 501 <= t_c:\n",
    "        w = 1\n",
    "    return w"
   ],
   "metadata": {
    "collapsed": false,
    "pycharm": {
     "name": "#%%\n"
    }
   }
  },
  {
   "cell_type": "code",
   "execution_count": 10,
   "outputs": [
    {
     "name": "stdout",
     "output_type": "stream",
     "text": [
      "max_pts: 27795\n",
      "520\n"
     ]
    }
   ],
   "source": [
    "max_pts = max(selected_players.values())\n",
    "print('max_pts:', max_pts)\n",
    "\n",
    "nodes_list = []\n",
    "id_player = dict()\n",
    "for i, k in enumerate(team_mates.keys()):\n",
    "    id_player[k] = i\n",
    "    nodes_list.append((i, {'labels': k, 'weight': selected_players[k] / max_pts}))\n",
    "\n",
    "print(len(nodes_list))\n",
    "del selected_players"
   ],
   "metadata": {
    "collapsed": false,
    "pycharm": {
     "name": "#%%\n"
    }
   }
  },
  {
   "cell_type": "code",
   "execution_count": 11,
   "outputs": [
    {
     "name": "stdout",
     "output_type": "stream",
     "text": [
      "21574\n"
     ]
    }
   ],
   "source": [
    "edges = []\n",
    "for k in team_mates.keys():\n",
    "    for m in team_mates[k].keys():\n",
    "        edges.append((id_player[k], id_player[m], get_edge_weight(team_mates[k][m])))\n",
    "\n",
    "print(len(edges))\n",
    "del team_mates"
   ],
   "metadata": {
    "collapsed": false,
    "pycharm": {
     "name": "#%%\n"
    }
   }
  },
  {
   "cell_type": "code",
   "execution_count": 12,
   "outputs": [
    {
     "name": "stdout",
     "output_type": "stream",
     "text": [
      "21574\n",
      "(0, 6, 0.3)\n",
      "(0, 14, 0.4)\n",
      "(0, 13, 0.05)\n",
      "(0, 28, 0.075)\n",
      "(0, 26, 0.05)\n",
      "(0, 7, 0.1)\n",
      "(0, 21, 0.05)\n",
      "(0, 70, 0.05)\n",
      "(0, 47, 0.05)\n",
      "(0, 8, 0.075)\n"
     ]
    }
   ],
   "source": [
    "print(len(edges))\n",
    "for i, e in enumerate(edges):\n",
    "    if i == 10:\n",
    "        break\n",
    "    print(e)"
   ],
   "metadata": {
    "collapsed": false,
    "pycharm": {
     "name": "#%%\n"
    }
   }
  },
  {
   "cell_type": "code",
   "execution_count": 13,
   "outputs": [],
   "source": [
    "# with open('output/edges_short.csv', 'w', encoding='latin-1') as f:\n",
    "#     f.write(\"v1,v2,wt\\n\")\n",
    "#     for v1, v2, wt in edges:\n",
    "#         f.write('%d,%d,%f\\n' % (v1, v2, wt))"
   ],
   "metadata": {
    "collapsed": false,
    "pycharm": {
     "name": "#%%\n"
    }
   }
  },
  {
   "cell_type": "code",
   "execution_count": 14,
   "outputs": [],
   "source": [
    "with open('output/nodes.pickle', 'wb') as f:\n",
    "    pickle.dump(nodes_list, f)\n",
    "\n",
    "with open('output/edges.pickle', 'wb') as f:\n",
    "    pickle.dump(edges, f)\n"
   ],
   "metadata": {
    "collapsed": false,
    "pycharm": {
     "name": "#%%\n"
    }
   }
  }
 ],
 "metadata": {
  "kernelspec": {
   "display_name": "Python 3",
   "language": "python",
   "name": "python3"
  },
  "language_info": {
   "codemirror_mode": {
    "name": "ipython",
    "version": 2
   },
   "file_extension": ".py",
   "mimetype": "text/x-python",
   "name": "python",
   "nbconvert_exporter": "python",
   "pygments_lexer": "ipython2",
   "version": "2.7.6"
  }
 },
 "nbformat": 4,
 "nbformat_minor": 0
}