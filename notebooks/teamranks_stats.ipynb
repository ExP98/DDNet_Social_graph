{
 "cells": [
  {
   "cell_type": "code",
   "execution_count": 23,
   "metadata": {
    "collapsed": true
   },
   "outputs": [],
   "source": [
    "import csv\n",
    "from collections import defaultdict"
   ]
  },
  {
   "cell_type": "code",
   "execution_count": 24,
   "metadata": {
    "collapsed": false,
    "pycharm": {
     "name": "#%%\n"
    }
   },
   "outputs": [],
   "source": [
    "def extraction(spl_line):\n",
    "    if len(spl_line) != 3:\n",
    "        print('wrong line!')\n",
    "        return None\n",
    "    else:\n",
    "        map_name, date = spl_line[0][1:], spl_line[2][:-1]\n",
    "        splt_l = spl_line[1].split('\",')\n",
    "        if len(splt_l) == 2:\n",
    "            nick, sp_l = splt_l\n",
    "            time, team_id = sp_l.split(',\"')\n",
    "        else:\n",
    "            nick, time, team_id = splt_l\n",
    "        if ',' in time:\n",
    "            time, id_reminder = time.split(',')\n",
    "            if id_reminder:\n",
    "                team_id = id_reminder + team_id\n",
    "        return map_name, nick, time, team_id, date"
   ]
  },
  {
   "cell_type": "code",
   "execution_count": 25,
   "metadata": {
    "collapsed": false,
    "pycharm": {
     "name": "#%%\n"
    }
   },
   "outputs": [
    {
     "data": {
      "text/plain": [
       "1320359"
      ]
     },
     "execution_count": 25,
     "metadata": {},
     "output_type": "execute_result"
    }
   ],
   "source": [
    "record_list = []\n",
    "\n",
    "prev_line = []\n",
    "with open('data/teamrace.csv', 'r', encoding='latin-1') as f:\n",
    "    next(f)\n",
    "    for line in f:\n",
    "        splitted_line = line.split('\",\"')\n",
    "        if len(splitted_line) == 3:\n",
    "            record_list.append(extraction(splitted_line))\n",
    "            prev_line = splitted_line\n",
    "        else:\n",
    "            if len(splitted_line) == 2 and len(prev_line) == 2:\n",
    "                new_line = [prev_line[0], prev_line[1] + splitted_line[0], splitted_line[1]]\n",
    "                record_list.append(extraction(new_line))\n",
    "                prev_line = new_line\n",
    "            else:\n",
    "                if len(splitted_line) == 1 and len(prev_line) == 2:\n",
    "                    prev_line = [prev_line[0], prev_line[1] + splitted_line[0]]\n",
    "                else:\n",
    "                    prev_line = splitted_line\n",
    "len(record_list)"
   ]
  },
  {
   "cell_type": "code",
   "execution_count": null,
   "metadata": {
    "collapsed": false,
    "pycharm": {
     "name": "#%%\n"
    }
   },
   "outputs": [
    {
     "name": "stdout",
     "output_type": "stream",
     "text": [
      "1063\n"
     ]
    }
   ],
   "source": [
    "selected_players = dict()\n",
    "with open('outputs/output_data/nicks-points_10000.csv', 'r', encoding='latin-1') as fp:\n",
    "    reader = csv.reader(fp, delimiter='\\t')\n",
    "    next(reader)\n",
    "    for row in reader:\n",
    "        pt = int(row[2])\n",
    "        if pt >= 5000:\n",
    "            selected_players[row[1]] = row[2]\n",
    "print(len(selected_players))"
   ]
  },
  {
   "cell_type": "code",
   "execution_count": 27,
   "metadata": {
    "collapsed": false,
    "pycharm": {
     "name": "#%%\n"
    }
   },
   "outputs": [
    {
     "name": "stdout",
     "output_type": "stream",
     "text": [
      "608396\n"
     ]
    }
   ],
   "source": [
    "teamid_dict = defaultdict(set)\n",
    "for row in record_list:\n",
    "    teamid_dict[row[3]].add(row[1])\n",
    "print(len(teamid_dict))"
   ]
  },
  {
   "cell_type": "code",
   "execution_count": 28,
   "metadata": {
    "collapsed": false,
    "pycharm": {
     "name": "#%%\n"
    }
   },
   "outputs": [
    {
     "name": "stdout",
     "output_type": "stream",
     "text": [
      "1059\n"
     ]
    }
   ],
   "source": [
    "team_mates = dict()\n",
    "sp = selected_players.keys()\n",
    "\n",
    "for tid in teamid_dict.keys():\n",
    "    for player in teamid_dict[tid]:\n",
    "        for mate in teamid_dict[tid]:\n",
    "            if player in sp and mate in sp:\n",
    "                if player not in team_mates.keys():\n",
    "                    team_mates[player] = dict()\n",
    "                if mate not in team_mates[player].keys():\n",
    "                    team_mates[player][mate] = 1\n",
    "                else:\n",
    "                    team_mates[player][mate] += 1\n",
    "for k in list(team_mates.keys()):\n",
    "    del team_mates[k][k]\n",
    "    if not team_mates[k]:\n",
    "        del team_mates[k]\n",
    "print(len(team_mates))"
   ]
  },
  {
   "cell_type": "code",
   "execution_count": 29,
   "metadata": {
    "collapsed": false,
    "pycharm": {
     "name": "#%%\n"
    }
   },
   "outputs": [
    {
     "name": "stdout",
     "output_type": "stream",
     "text": [
      "1 brainless tee 263\n",
      "2 Noctua 260\n",
      "3 Cendren 248\n",
      "4 bano 227\n",
      "5 <BÂµmM> 189\n",
      "6 fikmesÃ¥n 189\n",
      "7 nameless tee 185\n",
      "8 iParano 183\n",
      "9 KlexMikrowelle 183\n",
      "10 Cireme 180\n",
      "11 Aoe 169\n",
      "12 HaHAxD* 168\n",
      "13 CÃ¸ke 167\n",
      "14 triki 166\n",
      "15 :) 166\n",
      "16 Freezestyler 165\n",
      "17 Kicker 165\n",
      "18 ZimE 162\n",
      "19 (1) 160\n",
      "20 Chairn 155\n",
      "21 shoxX 151\n",
      "22 GlobQ 144\n",
      "23 Konsti 143\n",
      "24 BaconDrink 143\n",
      "25 Esckiller 141\n",
      "26 PeX 140\n",
      "27 Hindu 137\n",
      "28 Starkiller 137\n",
      "29 Cor 137\n",
      "30 TeeWurst Neon 136\n",
      "31 AvapiX 136\n",
      "32 'faceless 136\n",
      "33 Avasus 135\n",
      "34 DaGiese :> 134\n",
      "35 Meow~ 134\n",
      "36 lufu1 131\n",
      "37 jao 131\n",
      "38 Yota. 129\n",
      "39 LCSG47 128\n",
      "40 Tezcan 125\n",
      "41 Deathman 125\n",
      "42 StorÐ¼PÊÃ¶É´ix 124\n",
      "43 NeXus 123\n",
      "44 Slayer 121\n",
      "45 coradax 121\n",
      "46 Donger 121\n",
      "47 Theon 121\n",
      "48 krÃ¼melmonster 120\n",
      "49 ano :3 119\n",
      "50 Poltix 119\n",
      "51 nothing 117\n",
      "52 Elit3N0ob 117\n",
      "53 Zhady 116\n",
      "54 |ÅaÃ¾Å§urÄ| 115\n",
      "55 =Schulzer= 115\n",
      "56 Black Jack 114\n",
      "57 Kill4FuN 114\n",
      "58 qed 113\n",
      "59 Bolox 112\n",
      "60 Colo-Colo 112\n",
      "61 Gorden 112\n",
      "62 ScReeNy 110\n",
      "63 superob96 110\n",
      "64 Exotix 108\n",
      "65 Large 108\n",
      "66 gB. | Kayumi 107\n",
      "67 *|Loading* 107\n",
      "68 lola 106\n",
      "69 Genex 105\n",
      "70 Lady Saavik 104\n",
      "71 SPÎCTRUM 104\n",
      "72 Knacker 104\n",
      "73 PlantKnight 104\n",
      "74 Jojo 103\n",
      "75 Smetanolub 103\n",
      "76 Joker.â¥ 102\n",
      "77 hannibal 101\n",
      "78 -TwistÂ°~ 101\n",
      "79 ad 101\n",
      "80 Jesus Christ 101\n",
      "81 Crytek 100\n",
      "82 Tea 100\n",
      "83 LuckyStrike 100\n",
      "84 I.K.U 100\n",
      "85 Sir Kruksic 99\n",
      "86 R41NB0W 99\n",
      "87 xXxTee' 99\n",
      "88 Element Finland 98\n",
      "89 |JB*|Golden Axe 98\n",
      "90 Lexin 97\n",
      "91 AspHyXiA 97\n",
      "92 Ryozuki 97\n",
      "93 simple 97\n",
      "94 RayB. 96\n",
      "95 rezee 96\n",
      "96 Baby Groot 95\n",
      "97 WhiteBULL 94\n",
      "98 Novo c: 94\n",
      "99 Knuski 94\n",
      "100 HÙ¤Ð¸ÄØ¹Ð³Ä©Î± 94\n",
      "101 Hidden-Ezio 93\n",
      "102 RavenXXX 93\n",
      "103 maggi323 93\n",
      "104 LanuX 93\n",
      "105 â.SÏsÐ½Î¹âª 92\n",
      "106 Ð¡ÑÐ°ÑÑÑÐµ 92\n",
      "107 clefairy' 92\n",
      "108 Reed 92\n",
      "109 YaaOmo 91\n",
      "110 Shima enaga 91\n",
      "111 Wombat 90\n",
      "112 Gambol 90\n",
      "113 NANAMAR 90\n",
      "114 Spooky 90\n",
      "115 Brezzel 89\n",
      "116 Welf 89\n",
      "117 Hydra 89\n",
      "118 Habibi57 89\n",
      "119 Shawn. 89\n",
      "120 Skindred 89\n",
      "121 Deeper 89\n",
      "122 Fluday 89\n",
      "123 Neben 89\n",
      "124 Gurky 88\n",
      "125 --------- 87\n",
      "126 Cloudly 87\n",
      "127 tatak 87\n",
      "128 Keun 87\n",
      "129 Teeson 86\n",
      "130 corneum 86\n",
      "131 froid.' 86\n",
      "132 yo bitch 86\n",
      "133 Natsume 86\n",
      "134 Spyker 85\n",
      "135 Yuzu 85\n",
      "136 4twenty! 85\n",
      "137 B/\\\\NKSYÂ² 85\n",
      "138 Noved 84\n",
      "139 Hesse 84\n",
      "140 Lecter 84\n",
      "141 TOWARISH 84\n",
      "142 aMu 83\n",
      "143 MDMA 83\n",
      "144 afterfx 83\n",
      "145 Isaac. 83\n",
      "146 -Mage- 82\n",
      "147 timakro 81\n",
      "148 RoyalSeriousLee 81\n",
      "149 Mr.E}|{UK 81\n",
      "150 BlueMeww 81\n",
      "151 chopnixDE 80\n",
      "152 Men of Steel 80\n",
      "153 Infern@L 80\n",
      "154 VÃ©Na 80\n",
      "155 Matrix 80\n",
      "156 Skeptar 79\n",
      "157 â¡-ÓRÙ¡ââ 79\n",
      "158 Kandiifloss 79\n",
      "159 ÐÐ°Ð¼Ð±Ð¾ 79\n",
      "160 Gooran 79\n",
      "161 Pio 78\n",
      "162 Bug 78\n",
      "163 Plowpowa 78\n",
      "164 Beast 77\n",
      "165 Ama 76\n",
      "166 Sir Skeleton 76\n",
      "167 Ù­Ä±Ædex'<3 76\n",
      "168 Bre3kAcHu 76\n",
      "169 Moiman 76\n",
      "170 sorgaxD 76\n",
      "171 Noez 76\n",
      "172 Ske 76\n",
      "173 Åorenzoââ¡ 76\n",
      "174 ReD 75\n",
      "175 WeedbÃ¤rchiii 74\n",
      "176 x.RaveN' 74\n",
      "177 Cherry 74\n",
      "178 secreT 73\n",
      "179 russsell 73\n",
      "180 1 73\n",
      "181 flash 73\n",
      "182 Farbod 73\n",
      "183 gB. | Zerodin 72\n",
      "184 superdial 72\n",
      "185 keepmypl 72\n",
      "186 Zwelf 72\n",
      "187 MilTee 72\n",
      "188 hZedres 72\n",
      "189 Reonarex 72\n",
      "190 Fumm 71\n",
      "191 ^b[Bro] flummi 71\n",
      "192 tobu. 71\n",
      "193 Luna 71\n",
      "194 Ganjah 71\n",
      "195 murpi 71\n",
      "196 sux 71\n",
      "197 Tropo 71\n",
      "198 Dropix 71\n",
      "199 Forris 70\n",
      "200 FanTal1ty 70\n"
     ]
    }
   ],
   "source": [
    "num_mates = dict()\n",
    "for k in team_mates.keys():\n",
    "    num_mates[k] = len(team_mates[k])\n",
    "sorted_num_mates = sorted(num_mates.items(), key=lambda kv: kv[1], reverse=True)\n",
    "for i, (k, m) in enumerate(sorted_num_mates):\n",
    "    if i == 200:\n",
    "        break\n",
    "    print(i+1, k, m)"
   ]
  },
  {
   "cell_type": "code",
   "execution_count": null,
   "metadata": {
    "collapsed": false,
    "pycharm": {
     "name": "#%%\n"
    }
   },
   "outputs": [],
   "source": [
    "with open('outputs/output_other/teammates_count_5000pts_only.tsv', 'w', encoding='latin-1') as f:\n",
    "    f.write('Rank\\tNickname\\tCountOfTeammates\\n')\n",
    "    for i, (k, m) in enumerate(sorted_num_mates):\n",
    "        if i == 200:\n",
    "            break\n",
    "        f.write('{}\\t{}\\t{}\\n'.format(i+1, k, m))"
   ]
  }
 ],
 "metadata": {
  "kernelspec": {
   "display_name": "Python 3",
   "language": "python",
   "name": "python3"
  },
  "language_info": {
   "codemirror_mode": {
    "name": "ipython",
    "version": 2
   },
   "file_extension": ".py",
   "mimetype": "text/x-python",
   "name": "python",
   "nbconvert_exporter": "python",
   "pygments_lexer": "ipython2",
   "version": "2.7.6"
  }
 },
 "nbformat": 4,
 "nbformat_minor": 0
}
